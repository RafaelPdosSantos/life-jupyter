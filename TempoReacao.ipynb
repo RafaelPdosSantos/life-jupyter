{
 "cells": [
  {
   "cell_type": "code",
   "execution_count": 2,
   "metadata": {
    "collapsed": true
   },
   "outputs": [],
   "source": [
    "%matplotlib inline\n",
    "import numpy as np\n",
    "import matplotlib.pyplot as plt\n",
    "g=9.80"
   ]
  },
  {
   "cell_type": "code",
   "execution_count": 3,
   "metadata": {},
   "outputs": [],
   "source": [
    "distQueda=np.array([0.19, 0.16, 0.13, 0.19, 0.145, 0.12 , 0.13, 0.08, 0.14, 0.075, 0.15, 0.12, 0.16, \n",
    "                    0.06, 0.03])"
   ]
  },
  {
   "cell_type": "code",
   "execution_count": 12,
   "metadata": {},
   "outputs": [
    {
     "data": {
      "image/png": "[encoded data removed]",
      "text/plain": [
       "<matplotlib.figure.Figure at 0x114795128>"
      ]
     },
     "metadata": {},
     "output_type": "display_data"
    }
   ],
   "source": [
    "# the histogram of the data\n",
    "n, bins, patches = plt.hist(distQueda, normed='True', alpha=0.75)#, bins=50, normed='True', facecolor='green', alpha=0.75)\n",
    "plt.grid(True)\n",
    "#plt.xlim([2.626, 2.634])\n",
    "plt.xlabel('distQueda / m')\n",
    "#plt.ylabel('Probability')\n",
    "plt.show()"
   ]
  },
  {
   "cell_type": "code",
   "execution_count": 19,
   "metadata": {},
   "outputs": [
    {
     "name": "stdout",
     "output_type": "stream",
     "text": [
      "distQuedaMed= 0.125 m\n",
      "tReacMedio= 0.160 s\n",
      "tReacDesvPad= 0.030 s\n"
     ]
    }
   ],
   "source": [
    "distQuedaMed=np.average(distQueda)\n",
    "distQuedaDesvPad=np.std(distQueda, ddof=1)\n",
    "#\n",
    "tReacMedio=np.sqrt(2*distQuedaMed / g) \n",
    "tReacDesvPad = tReacMedio/2/distQuedaMed * distQuedaDesvPad\n",
    "print(\"distQuedaMed= %.3f m\" %distQuedaMed)\n",
    "print(\"tReacMedio= %.3f s\" %tReacMedio)\n",
    "print(\"tReacDesvPad= %.3f s\" %tReacDesvPad)"
   ]
  },
  {
   "cell_type": "code",
   "execution_count": null,
   "metadata": {
    "collapsed": true
   },
   "outputs": [],
   "source": []
  }
 ],
 "metadata": {
  "kernelspec": {
   "display_name": "Python 2",
   "language": "python",
   "name": "python2"
  },
  "language_info": {
   "codemirror_mode": {
    "name": "ipython",
    "version": 3
   },
   "file_extension": ".py",
   "mimetype": "text/x-python",
   "name": "python",
   "nbconvert_exporter": "python",
   "pygments_lexer": "ipython3",
   "version": "3.6.2"
  }
 },
 "nbformat": 4,
 "nbformat_minor": 2
}
