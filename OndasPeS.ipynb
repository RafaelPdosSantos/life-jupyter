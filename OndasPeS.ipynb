{
 "cells": [
  {
   "cell_type": "markdown",
   "metadata": {},
   "source": [
    "# Propagação de Ondas Mecânicas em Meios Sólidos Homogéneos"
   ]
  },
  {
   "cell_type": "markdown",
   "metadata": {},
   "source": [
    "## Constantes elásticas\n",
    "### Módulo de Young ou de compressão\n",
    "$$  \\frac{F}{A}  = Y  \\frac{\\Delta l}{l} $$\n",
    "### Coeficiente de Poisson\n",
    "$$  \\frac{\\Delta w}{w}  =   \\frac{\\Delta h}{h}  = - \\sigma  \\frac{\\Delta l}{l} $$\n",
    "\n",
    "### Módulo volúmico de compressão, “bulk modulus”\n",
    "$$\\frac{F}{A}  =  -K \\frac{\\Delta V}{V} $$\\\n",
    "$$K=\\frac{Y}{3\\,(1-2\\sigma)} $$\n",
    "### módulo de rigidez (“cisalhamento” ou “shear modulus”)\n",
    "$$ \\frac{F_T}{A} = \\mu \\, \\theta$$\n",
    "$$\\mu  = \\frac{Y}{2(1 +\\sigma )}$$\n",
    "## Velocidades de Propagação\n",
    "### Para uma barra \"delgada\"\n",
    "$$  v_L = \\sqrt{\\frac{Y}{\\rho}}$$\n",
    "### Para uma barra \"volúmica\"\n",
    "$$  v_L = \\sqrt{\\frac{K + 4/3\\,\\mu}{\\rho}}$$\n",
    "### Velocidade transversal\n",
    "$$  v_T = \\sqrt{\\frac{\\mu}{\\rho}} $$\n",
    "\n",
    "## Para um sólido\n",
    "$$ \\left(\\frac{v_L}{v_T}\\right)^2 =  \\frac{2(1-\\sigma)}{(1-2\\sigma)} $$\n",
    "$ \\left(\\frac{v_L}{v_T}\\right)^2  (1-2\\sigma)=  2 - 2 \\sigma  $"
   ]
  },
  {
   "cell_type": "markdown",
   "metadata": {},
   "source": [
    "$  2 \\sigma = 2 -\\left(\\frac{v_L}{v_T}\\right)^2  (1-2\\sigma)$, $ \\qquad   2 \\sigma - 2 \\sigma \\left(\\frac{v_L}{v_T}\\right)^2 = 2 -\\left(\\frac{v_L}{v_T}\\right)^2 $, $ \\qquad   \\sigma (2 - 2 \\left(\\frac{v_L}{v_T}\\right)^2 ) = 2 -\\left(\\frac{v_L}{v_T}\\right)^2 $"
   ]
  },
  {
   "cell_type": "markdown",
   "metadata": {},
   "source": [
    "$$   \\sigma  =  \\frac{2 -\\left(\\frac{v_L}{v_T}\\right)^2 }{2 - 2\\left(\\frac{v_L}{v_T}\\right)^2}$$\n",
    "\n",
    "$$ \\sigma  = \\frac{\\frac{v_L^{2}}{2} - v_T^{2}}{v_L^{2} - v_T^{2}}$$"
   ]
  },
  {
   "cell_type": "markdown",
   "metadata": {},
   "source": [
    "### Coeficiente de anisotropia\n",
    "$$ c.a.= \\frac{v_{max}-v_{min}}{v_{max}}$$"
   ]
  },
  {
   "cell_type": "code",
   "execution_count": 24,
   "metadata": {},
   "outputs": [
    {
     "name": "stdout",
     "output_type": "stream",
     "text": [
      "Volume=198.59 cm^3\n",
      "Peso Específico=2688.93 Kg/m^3\n"
     ]
    }
   ],
   "source": [
    "import numpy as np\n",
    "## Medição de Dimensões\n",
    "# Plexiglass\n",
    "#Lx=0.0507\n",
    "#Ly=0.0621\n",
    "#Lz=0.0899\n",
    "#peso=0.336 ; dpeso=0.0001\n",
    "#Marmore\n",
    "Lx=0.0502\n",
    "Ly=0.0489\n",
    "Lz=0.0809\n",
    "dL=0.0001\n",
    "peso=0.534 ; dpeso=0.0001\n",
    "Vol= Lx*Ly*Lz\n",
    "print(\"Volume=%6.2f cm^3\" %(Vol*1e6))\n",
    "rho=peso/Vol\n",
    "print(\"Peso Específico=%7.2f Kg/m^3\" %rho)"
   ]
  },
  {
   "cell_type": "code",
   "execution_count": 25,
   "metadata": {},
   "outputs": [],
   "source": [
    "## Medição de Tempos, com incertezas\n",
    "# Plexiglass\n",
    "#TPx=19.00e-6; dTPx=0.20e-6\n",
    "#TPy=23.09e-6; dTPy=0.11e-6\n",
    "#TSx=38.00e-6; dTSx=2.00e-6\n",
    "#TSy=41.00e-6; dTSy=2.10e-6\n",
    "#Marmore\n",
    "TPx=8.29e-6; dTPx=0.11e-6\n",
    "TPy=8.75e-6; dTPy=0.55e-6\n",
    "TSx=14.60e-6; dTSx=0.740e-6\n",
    "TSy=15.90e-6; dTSy=0.78e-6"
   ]
  },
  {
   "cell_type": "code",
   "execution_count": 26,
   "metadata": {},
   "outputs": [
    {
     "name": "stdout",
     "output_type": "stream",
     "text": [
      "Vel. Px=6055.49 m/s, Vel. Py=5588.57 m/s \n",
      "Vel. Sx=3438.36 m/s, Vel. Sy=3075.47 m/s \n"
     ]
    }
   ],
   "source": [
    "VPx=Lx/TPx\n",
    "VPy=Ly/TPy\n",
    "print(\"Vel. Px=%g m/s, Vel. Py=%g m/s \" %(VPx,VPy))\n",
    "VSx=Lx/TSx\n",
    "VSy=Ly/TSy\n",
    "print(\"Vel. Sx=%6.2f m/s, Vel. Sy=%g m/s \" %(VSx,VSy))"
   ]
  },
  {
   "cell_type": "code",
   "execution_count": 27,
   "metadata": {},
   "outputs": [
    {
     "name": "stdout",
     "output_type": "stream",
     "text": [
      "Mód. de rigidez=31.79 GPa\n",
      "Bulk modulus=56.21 GPa\n"
     ]
    }
   ],
   "source": [
    "mu=VSx**2 * rho\n",
    "print(\"Mód. de rigidez=%5.2f GPa\" %(mu/1e9))\n",
    "K=VPx**2 * rho - 4.0/3.0* mu\n",
    "print(\"Bulk modulus=%5.2f GPa\" %(K/1e9))"
   ]
  },
  {
   "cell_type": "code",
   "execution_count": 28,
   "metadata": {},
   "outputs": [
    {
     "name": "stdout",
     "output_type": "stream",
     "text": [
      "Sigma=0.262\n"
     ]
    }
   ],
   "source": [
    "ratioVel2=(VPx/VSx)**2\n",
    "sigma = (2 - ratioVel2)/(2 - 2 *ratioVel2)\n",
    "print(\"Sigma=%4.3f\" %sigma)"
   ]
  },
  {
   "cell_type": "markdown",
   "metadata": {},
   "source": [
    "## Cálculo de Incertezas"
   ]
  },
  {
   "cell_type": "code",
   "execution_count": 29,
   "metadata": {},
   "outputs": [],
   "source": [
    "dVol= Ly*Lz *dL + Lx*Lz *dL + Lx*Ly *dL\n",
    "drho=1.0/Vol * dpeso + peso/Vol**2 * dVol\n",
    "dVPx = Lx/(TPx**2)*dTPx\n",
    "dVSx = Lx/(TSx**2)*dTSx\n",
    "dmu=2*VSx*rho *dVSx + VSx**2 *drho\n",
    "dK=2*VPx*rho *dVPx + VPx**2 *drho + 4.0/3.0 *dmu"
   ]
  },
  {
   "cell_type": "code",
   "execution_count": 30,
   "metadata": {},
   "outputs": [
    {
     "name": "stdout",
     "output_type": "stream",
     "text": [
      "Volume=198.59 +-   1.05 cm^3\n"
     ]
    }
   ],
   "source": [
    "dVPx\n",
    "dmu\n",
    "dVol\n",
    "print(\"Volume=%6.2f +- %6.2f cm^3\" %(Vol*1e6, dVol*1e6 ))"
   ]
  },
  {
   "cell_type": "markdown",
   "metadata": {},
   "source": [
    "## Cálculo simbólico das Expressões"
   ]
  },
  {
   "cell_type": "code",
   "execution_count": 6,
   "metadata": {},
   "outputs": [],
   "source": [
    "#https://scaron.info/blog/solving-symbolic-equations-with-sympy.html\n",
    "from sympy import solve, var, diff, simplify, latex"
   ]
  },
  {
   "cell_type": "code",
   "execution_count": 7,
   "metadata": {},
   "outputs": [
    {
     "name": "stdout",
     "output_type": "stream",
     "text": [
      "sgm =  (vL**2 - 2*vT**2)/(2*(vL - vT)*(vL + vT))\n"
     ]
    }
   ],
   "source": [
    "#\\left(\\frac{v_L}{v_T}\\right)^2 =  \\frac{2(1-\\sigma)}{(1-2\\sigma)}\n",
    "vL, vT, ratio, sgm = var('vL, vT, ratio, sgm')\n",
    "E1 = vL**2 /  vT**2 - (2- 2 * sgm)/ (1- 2 * sgm)\n",
    "E2 = ratio - (2- 2 * sgm)/ (1- 2 * sgm)\n",
    "\n",
    "sols = solve([E1], [sgm])\n",
    "print(\"sgm = \", (sols[sgm]).factor())\n",
    "#print(\"ratio = \", (sols[sgm]).factor())"
   ]
  },
  {
   "cell_type": "code",
   "execution_count": 8,
   "metadata": {},
   "outputs": [
    {
     "name": "stdout",
     "output_type": "stream",
     "text": [
      "\\frac{\\frac{vL^{2}}{2} - vT^{2}}{vL^{2} - vT^{2}}\n"
     ]
    }
   ],
   "source": [
    "sols\n",
    "print(latex(sols[sgm]))"
   ]
  },
  {
   "cell_type": "code",
   "execution_count": 11,
   "metadata": {},
   "outputs": [
    {
     "name": "stdout",
     "output_type": "stream",
     "text": [
      "vL*vT**2/(vL**2 - vT**2)**2\n",
      "- \\frac{2 vL \\left(\\frac{vL^{2}}{2} - vT^{2}\\right)}{\\left(vL^{2} - vT^{2}\\right)^{2}} + \\frac{vL}{vL^{2} - vT^{2}}\n",
      "-vL**2*vT/(vL**2 - vT**2)**2\n"
     ]
    }
   ],
   "source": [
    "dSvL = diff(sols[sgm], vL)\n",
    "print(simplify(dSvL))\n",
    "print(latex(dSvL))\n",
    "dSvT = diff(sols[sgm], vT)\n",
    "print(simplify(dSvT))\n"
   ]
  },
  {
   "cell_type": "markdown",
   "metadata": {},
   "source": [
    "$$ \\frac{\\partial \\sigma}{\\partial v_L}=  - \\frac{2 vL \\left(\\frac{vL^{2}}{2} - vT^{2}\\right)}{\\left(vL^{2} - vT^{2}\\right)^{2}} + \\frac{vL}{vL^{2} - vT^{2}}$$"
   ]
  },
  {
   "cell_type": "code",
   "execution_count": null,
   "metadata": {},
   "outputs": [],
   "source": []
  }
 ],
 "metadata": {
  "kernelspec": {
   "display_name": "Python 2",
   "language": "python",
   "name": "python2"
  },
  "language_info": {
   "codemirror_mode": {
    "name": "ipython",
    "version": 2
   },
   "file_extension": ".py",
   "mimetype": "text/x-python",
   "name": "python",
   "nbconvert_exporter": "python",
   "pygments_lexer": "ipython2",
   "version": "2.7.14"
  }
 },
 "nbformat": 4,
 "nbformat_minor": 2
}
