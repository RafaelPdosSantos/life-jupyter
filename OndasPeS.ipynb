{
 "cells": [
  {
   "cell_type": "markdown",
   "metadata": {},
   "source": [
    "# Propagação de Ondas Mecânicas em Meios Sólidos Homogéneos"
   ]
  },
  {
   "cell_type": "markdown",
   "metadata": {},
   "source": [
    "## Constantes elásticas\n",
    "### Módulo de Young ou de compressão\n",
    "$$  \\frac{F}{A}  = Y  \\frac{\\Delta l}{l} $$\n",
    "### Coeficiente de Poisson\n",
    "$$  \\frac{\\Delta w}{w}  =   \\frac{\\Delta h}{h}  = - \\sigma  \\frac{\\Delta l}{l} $$\n",
    "\n",
    "### Módulo volúmico de compressão, “bulk modulus”\n",
    "$$\\frac{F}{A}  =  -K \\frac{\\Delta V}{V} $$\\\n",
    "$$K=\\frac{Y}{3\\,(1-2\\sigma)} $$\n",
    "### módulo de rigidez (“cisalhamento” ou “shear modulus”)\n",
    "$$ \\frac{F_T}{A} = \\mu \\, \\theta$$\n",
    "$$\\mu  = \\frac{Y}{2(1 +\\sigma )}$$\n",
    "## Velocidades de Propagação\n",
    "### Para uma barra \"delgada\"\n",
    "$$  v_L = \\sqrt{\\frac{Y}{\\rho}}$$\n",
    "### Para uma barra \"volúmica\"\n",
    "$$  v_L = \\sqrt{\\frac{K + 4/3\\,\\mu}{\\rho}}$$\n",
    "### Velocidade transversal\n",
    "$$  v_T = \\sqrt{\\frac{\\mu}{\\rho}} $$\n",
    "\n",
    "## Para um sólido\n",
    "$$ \\left(\\frac{v_L}{v_T}\\right)^2 =  \\frac{2(1-\\sigma)}{(1-2\\sigma)} $$\n",
    "$ \\left(\\frac{v_L}{v_T}\\right)^2  (1-2\\sigma)=  2 - 2 \\sigma  $"
   ]
  },
  {
   "cell_type": "markdown",
   "metadata": {},
   "source": [
    "$  2 \\sigma = 2 -\\left(\\frac{v_L}{v_T}\\right)^2  (1-2\\sigma)$, $ \\qquad   2 \\sigma - 2 \\sigma \\left(\\frac{v_L}{v_T}\\right)^2 = 2 -\\left(\\frac{v_L}{v_T}\\right)^2 $, $ \\qquad   \\sigma (2 - 2 \\left(\\frac{v_L}{v_T}\\right)^2 ) = 2 -\\left(\\frac{v_L}{v_T}\\right)^2 $"
   ]
  },
  {
   "cell_type": "markdown",
   "metadata": {},
   "source": [
    "$$   \\sigma  =  \\frac{2 -\\left(\\frac{v_L}{v_T}\\right)^2 }{2 - 2\\left(\\frac{v_L}{v_T}\\right)^2}$$"
   ]
  },
  {
   "cell_type": "markdown",
   "metadata": {},
   "source": [
    "### Coeficiente de anisotropia\n",
    "$$ c.a.= \\frac{v_{max}-v_{min}}{v_{max}}$$"
   ]
  },
  {
   "cell_type": "code",
   "execution_count": 76,
   "metadata": {},
   "outputs": [
    {
     "name": "stdout",
     "output_type": "stream",
     "text": [
      "Volume=0.000174528 m^3\n",
      "Peso Específico=1776.22 Kg/m^3\n"
     ]
    }
   ],
   "source": [
    "import numpy as np\n",
    "## Medição de Dimensões\n",
    "Lx=0.054\n",
    "Ly=0.032\n",
    "Lz=0.101\n",
    "dL=0.0001\n",
    "Vol= Lx*Ly*Lz\n",
    "print(\"Volume=%g m^3\" %Vol)\n",
    "peso=0.310 ; dpeso=0.0001\n",
    "rho=peso/Vol\n",
    "print(\"Peso Específico=%g Kg/m^3\" %rho)"
   ]
  },
  {
   "cell_type": "code",
   "execution_count": 65,
   "metadata": {},
   "outputs": [],
   "source": [
    "## Medição de Tempos, com incertezas\n",
    "TPx=50e-6; dTPx=1e-6\n",
    "TPy=30e-6\n",
    "TSx=65e-6; dTSx=1e-6\n",
    "TSy=35e-6"
   ]
  },
  {
   "cell_type": "code",
   "execution_count": 58,
   "metadata": {},
   "outputs": [
    {
     "name": "stdout",
     "output_type": "stream",
     "text": [
      "Vel. Px=1080 m/s, Vel. Py=1066.67 m/s \n",
      "Vel. Sx=830.77 m/s, Vel. Sy=914.286 m/s \n"
     ]
    }
   ],
   "source": [
    "VPx=Lx/TPx\n",
    "VPy=Ly/TPy\n",
    "print(\"Vel. Px=%g m/s, Vel. Py=%g m/s \" %(VPx,VPy))\n",
    "VSx=Lx/TSx\n",
    "VSy=Ly/TSy\n",
    "print(\"Vel. Sx=%6.2f m/s, Vel. Sy=%g m/s \" %(VSx,VSy))"
   ]
  },
  {
   "cell_type": "code",
   "execution_count": 55,
   "metadata": {},
   "outputs": [
    {
     "name": "stdout",
     "output_type": "stream",
     "text": [
      "Mód. de rigidez=1.22591 GPa\n",
      "Bulk modulus=0.43724 GPa\n"
     ]
    }
   ],
   "source": [
    "mu=VSx**2 * rho\n",
    "print(\"Mód. de rigidez=%g GPa\" %(mu/1e9))\n",
    "K=VPx**2 * rho - 4.0/3.0* mu\n",
    "print(\"Bulk modulus=%g GPa\" %(K/1e9))"
   ]
  },
  {
   "cell_type": "code",
   "execution_count": 56,
   "metadata": {},
   "outputs": [
    {
     "name": "stdout",
     "output_type": "stream",
     "text": [
      "Sigma=-0.224638 Pa\n"
     ]
    }
   ],
   "source": [
    "ratioVel2=(VPx/VSx)**2\n",
    "sigma = (2 - ratioVel2)/(2 - 2 *ratioVel2)\n",
    "print(\"Sigma=%g Pa\" %sigma)"
   ]
  },
  {
   "cell_type": "markdown",
   "metadata": {},
   "source": [
    "## Cálculo de Incertezas"
   ]
  },
  {
   "cell_type": "code",
   "execution_count": 81,
   "metadata": {},
   "outputs": [],
   "source": [
    "dVol= Ly*Lz *dL + Lx*Lz *dL + Lx*Ly *dL\n",
    "drho=1.0/Vol * dpeso + peso/Vol**2 * dVol\n",
    "dVPx = Lx/(TPx**2)*dTPx\n",
    "dVSx = Lx/(TSx**2)*dTSx\n",
    "dmu=2*VSx*rho *dVSx + VSx**2 *drho\n",
    "dK=2*VPx*rho *dVPx + VPx**2 *drho + 4.0/3.0 *dmu"
   ]
  },
  {
   "cell_type": "code",
   "execution_count": 74,
   "metadata": {},
   "outputs": [
    {
     "data": {
      "text/plain": [
       "1.0414e-06"
      ]
     },
     "execution_count": 74,
     "metadata": {},
     "output_type": "execute_result"
    }
   ],
   "source": [
    "dVPx\n",
    "dmu\n",
    "dVol"
   ]
  },
  {
   "cell_type": "code",
   "execution_count": null,
   "metadata": {},
   "outputs": [],
   "source": []
  }
 ],
 "metadata": {
  "kernelspec": {
   "display_name": "Python 2",
   "language": "python",
   "name": "python2"
  },
  "language_info": {
   "codemirror_mode": {
    "name": "ipython",
    "version": 3
   },
   "file_extension": ".py",
   "mimetype": "text/x-python",
   "name": "python",
   "nbconvert_exporter": "python",
   "pygments_lexer": "ipython3",
   "version": "3.6.2"
  }
 },
 "nbformat": 4,
 "nbformat_minor": 2
}
