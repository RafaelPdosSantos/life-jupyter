{
 "cells": [
  {
   "cell_type": "code",
   "execution_count": 1,
   "metadata": {
    "collapsed": true
   },
   "outputs": [],
   "source": [
    "%matplotlib inline\n",
    "import numpy as np\n",
    "import matplotlib.pyplot as plt \n",
    "import matplotlib.animation as animation"
   ]
  },
  {
   "cell_type": "markdown",
   "metadata": {},
   "source": [
    "## Thermal diffusivity\n",
    "https://en.wikipedia.org/wiki/Thermal_diffusivity\n",
    "\n",
    "$  \\frac{\\partial u}{\\partial t} = \\alpha  \\frac{\\partial^2 u}{\\partial x^2}$"
   ]
  },
  {
   "cell_type": "code",
   "execution_count": 22,
   "metadata": {
    "collapsed": true
   },
   "outputs": [],
   "source": [
    "# Initial condition\n",
    "def I(x):\n",
    "    return np.sin(x)\n",
    "\n",
    "#copper\n",
    "a = 1.11e-4\n",
    "L = np.pi  # 1.0\n",
    "T = 500.0\n",
    "Nx = 100\n",
    "Nt = 100\n",
    "x = np.linspace(0, L, Nx+1)    # mesh points in space\n",
    "dx = x[1] - x[0]\n",
    "t = np.linspace(0, T, Nt+1)    # mesh points in time\n",
    "dt = t[1] - t[0]\n",
    "F = a*dt/dx**2\n",
    "u = np.zeros(Nx+1)           # unknown u at new time level\n",
    "u_1 = np.zeros(Nx+1)           # u at the previous time level\n",
    "\n",
    "# Set initial condition u(x,0) = I(x)\n",
    "for i in range(0, Nx+1):\n",
    "    u_1[i] = I(x[i])\n",
    "# u_1[0:3] = 1"
   ]
  },
  {
   "cell_type": "code",
   "execution_count": 23,
   "metadata": {
    "collapsed": true
   },
   "outputs": [],
   "source": [
    "a = []\n",
    "#t = []\n",
    "\n",
    "for n in range(0, Nt):\n",
    "    # Compute u at inner mesh points\n",
    "    for i in range(1, Nx):\n",
    "        u[i] = u_1[i] + F*(u_1[i-1] - 2*u_1[i] + u_1[i+1])\n",
    "\n",
    "    a.append(u)\n",
    "    # Insert boundary conditions\n",
    "    u[0] = 0;  u[Nx] = 0\n",
    "\n",
    "    # Update u_1 before next step\n",
    "    u_1= u.copy()    "
   ]
  },
  {
   "cell_type": "code",
   "execution_count": 24,
   "metadata": {},
   "outputs": [
    {
     "data": {
      "image/png": "[encoded data removed]",
      "text/plain": [
       "<matplotlib.figure.Figure at 0x113388710>"
      ]
     },
     "metadata": {},
     "output_type": "display_data"
    }
   ],
   "source": [
    "fig = plt.figure()\n",
    "ax = fig.add_subplot(111)   #, autoscale_on=False, xlim=(-1, 1), ylim=(-2, 0.1))\n",
    "\n",
    "ax.plot(x, u_1, 'b', label='u(x)')\n",
    "#ax.plot(t, sol[:, 1], 'g', label='omega(t)')\n",
    "ax.legend(loc='best')\n",
    "ax.set_xlabel('x')\n",
    "ax.grid()\n",
    "plt.show()"
   ]
  },
  {
   "cell_type": "code",
   "execution_count": 25,
   "metadata": {},
   "outputs": [
    {
     "data": {
      "text/plain": [
       "0.56233256921497465"
      ]
     },
     "execution_count": 25,
     "metadata": {},
     "output_type": "execute_result"
    }
   ],
   "source": [
    "F"
   ]
  },
  {
   "cell_type": "code",
   "execution_count": null,
   "metadata": {
    "collapsed": true
   },
   "outputs": [],
   "source": []
  }
 ],
 "metadata": {
  "kernelspec": {
   "display_name": "Python 2",
   "language": "python",
   "name": "python2"
  },
  "language_info": {
   "codemirror_mode": {
    "name": "ipython",
    "version": 2
   },
   "file_extension": ".py",
   "mimetype": "text/x-python",
   "name": "python",
   "nbconvert_exporter": "python",
   "pygments_lexer": "ipython2",
   "version": "2.7.14"
  }
 },
 "nbformat": 4,
 "nbformat_minor": 2
}
