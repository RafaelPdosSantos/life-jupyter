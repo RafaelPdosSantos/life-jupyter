{
 "cells": [
  {
   "cell_type": "code",
   "execution_count": 9,
   "metadata": {
    "collapsed": true
   },
   "outputs": [],
   "source": [
    "%matplotlib inline\n",
    "import numpy as np\n",
    "import matplotlib.pyplot as plt \n",
    "from scipy.integrate import odeint\n",
    "from scipy.optimize import curve_fit\n",
    "from scipy import stats\n",
    "import matplotlib.animation as animation\n"
   ]
  },
  {
   "cell_type": "markdown",
   "metadata": {},
   "source": [
    "# Pendulo Amortecido"
   ]
  },
  {
   "cell_type": "markdown",
   "metadata": {},
   "source": [
    "$  \\frac{d^2 \\theta (t)}{dt^2} + b \\frac{d \\theta}{dt}(t) + \\frac{g}{l} \\sin(\\theta(t)) = 0$"
   ]
  },
  {
   "cell_type": "markdown",
   "metadata": {},
   "source": [
    "$ \\frac{d \\theta}{dt} = \\omega$\n"
   ]
  },
  {
   "cell_type": "markdown",
   "metadata": {},
   "source": [
    "$ \\frac{d \\omega}{dt}(t) + b \\omega (t) + c \\sin(\\theta(t)) = 0$"
   ]
  },
  {
   "cell_type": "markdown",
   "metadata": {},
   "source": [
    "## Solução por integração numérica da equação diferencial"
   ]
  },
  {
   "cell_type": "markdown",
   "metadata": {},
   "source": [
    "https://docs.scipy.org/doc/scipy/reference/generated/scipy.integrate.odeint.html"
   ]
  },
  {
   "cell_type": "code",
   "execution_count": 2,
   "metadata": {
    "collapsed": true
   },
   "outputs": [],
   "source": [
    "# Equ differencial y[0] = theta , y[1] = omega\n",
    "def pend(y, t, b, c):\n",
    "    theta, omega = y\n",
    "    dydt = [omega, -b*omega - c*np.sin(theta)]\n",
    "    return dydt"
   ]
  },
  {
   "cell_type": "code",
   "execution_count": 3,
   "metadata": {
    "collapsed": true
   },
   "outputs": [],
   "source": [
    "#constante de amortecimento:\n",
    "b = 0.25\n",
    "G = 9.8  # acceleration due to gravity, in m/s^2\n",
    "L = 1.73  # length of pendulum in m\n",
    "#initial conditions, phase, angular speed\n",
    "y0 = [np.pi - 0.1, 0.0]\n",
    "t = np.linspace(0, 10, 101)"
   ]
  },
  {
   "cell_type": "code",
   "execution_count": 4,
   "metadata": {
    "collapsed": true
   },
   "outputs": [],
   "source": [
    "sol = odeint(pend, y0, t, args=(b, G/L))"
   ]
  },
  {
   "cell_type": "code",
   "execution_count": 5,
   "metadata": {},
   "outputs": [
    {
     "data": {
      "image/png": "[encoded data removed]",
      "text/plain": [
       "<matplotlib.figure.Figure at 0x10edfb860>"
      ]
     },
     "metadata": {},
     "output_type": "display_data"
    }
   ],
   "source": [
    "fig = plt.figure()\n",
    "ax = fig.add_subplot(111)#, autoscale_on=False, xlim=(-1, 1), ylim=(-2, 0.1))\n",
    "\n",
    "ax.plot(t, sol[:, 0], 'b', label='theta(t)')\n",
    "ax.plot(t, sol[:, 1], 'g', label='omega(t)')\n",
    "ax.legend(loc='best')\n",
    "ax.set_xlabel('t')\n",
    "ax.grid()\n",
    "plt.show()"
   ]
  },
  {
   "cell_type": "code",
   "execution_count": 1,
   "metadata": {},
   "outputs": [
    {
     "ename": "NameError",
     "evalue": "name 'L' is not defined",
     "output_type": "error",
     "traceback": [
      "\u001b[0;31m---------------------------------------------------------------------------\u001b[0m",
      "\u001b[0;31mNameError\u001b[0m                                 Traceback (most recent call last)",
      "\u001b[0;32m<ipython-input-1-2de7ca405af4>\u001b[0m in \u001b[0;36m<module>\u001b[0;34m()\u001b[0m\n\u001b[1;32m      1\u001b[0m \u001b[0mget_ipython\u001b[0m\u001b[0;34m(\u001b[0m\u001b[0;34m)\u001b[0m\u001b[0;34m.\u001b[0m\u001b[0mmagic\u001b[0m\u001b[0;34m(\u001b[0m\u001b[0;34mu'matplotlib notebook'\u001b[0m\u001b[0;34m)\u001b[0m\u001b[0;34m\u001b[0m\u001b[0m\n\u001b[0;32m----> 2\u001b[0;31m \u001b[0mx1\u001b[0m \u001b[0;34m=\u001b[0m \u001b[0mL\u001b[0m\u001b[0;34m*\u001b[0m\u001b[0mnp\u001b[0m\u001b[0;34m.\u001b[0m\u001b[0msin\u001b[0m\u001b[0;34m(\u001b[0m\u001b[0msol\u001b[0m\u001b[0;34m[\u001b[0m\u001b[0;34m:\u001b[0m\u001b[0;34m,\u001b[0m \u001b[0;36m0\u001b[0m\u001b[0;34m]\u001b[0m\u001b[0;34m)\u001b[0m\u001b[0;34m\u001b[0m\u001b[0m\n\u001b[0m\u001b[1;32m      3\u001b[0m \u001b[0my1\u001b[0m \u001b[0;34m=\u001b[0m \u001b[0;34m-\u001b[0m\u001b[0mL\u001b[0m\u001b[0;34m*\u001b[0m\u001b[0mnp\u001b[0m\u001b[0;34m.\u001b[0m\u001b[0mcos\u001b[0m\u001b[0;34m(\u001b[0m\u001b[0msol\u001b[0m\u001b[0;34m[\u001b[0m\u001b[0;34m:\u001b[0m\u001b[0;34m,\u001b[0m \u001b[0;36m0\u001b[0m\u001b[0;34m]\u001b[0m\u001b[0;34m)\u001b[0m\u001b[0;34m\u001b[0m\u001b[0m\n\u001b[1;32m      4\u001b[0m \u001b[0;34m\u001b[0m\u001b[0m\n\u001b[1;32m      5\u001b[0m \u001b[0mfig\u001b[0m \u001b[0;34m=\u001b[0m \u001b[0mplt\u001b[0m\u001b[0;34m.\u001b[0m\u001b[0mfigure\u001b[0m\u001b[0;34m(\u001b[0m\u001b[0;34m)\u001b[0m\u001b[0;34m\u001b[0m\u001b[0m\n",
      "\u001b[0;31mNameError\u001b[0m: name 'L' is not defined"
     ]
    }
   ],
   "source": [
    "%matplotlib notebook\n",
    "x1 = L*np.sin(sol[:, 0])\n",
    "y1 = -L*np.cos(sol[:, 0])\n",
    "\n",
    "fig = plt.figure()\n",
    "ax = fig.add_subplot(111, autoscale_on=False, xlim=(-1, 1), ylim=(-2, 0.1))\n",
    "ax.grid()\n",
    "\n",
    "line, = ax.plot([], [], 'o-', lw=2)\n",
    "time_template = 'time = %.1fs'\n",
    "time_text = ax.text(0.05, 0.9, '', transform=ax.transAxes)\n",
    "\n",
    "def init():\n",
    "    line.set_data([], [])\n",
    "    time_text.set_text('')\n",
    "    return line, time_text\n",
    "\n",
    "def animate(i):\n",
    "    thisx = [0, x1[i]]\n",
    "    thisy = [0, y1[i]]\n",
    "\n",
    "    line.set_data(thisx, thisy)\n",
    "    time_text.set_text(time_template % (i*dt))\n",
    "    return line, time_text\n",
    "\n",
    "ani = animation.FuncAnimation(fig, animate, np.arange(1, len(t)),\n",
    "                              interval=25, blit=True, init_func=init)\n",
    "\n",
    "# ani.save('simple_pendulum.mp4', fps=15)\n",
    "plt.show()"
   ]
  },
  {
   "cell_type": "markdown",
   "metadata": {},
   "source": [
    "## Tempo de Reação"
   ]
  },
  {
   "cell_type": "code",
   "execution_count": 4,
   "metadata": {},
   "outputs": [
    {
     "name": "stdout",
     "output_type": "stream",
     "text": [
      "distQuedaMed= 0.125 m\n",
      "tReacMedio= 0.160 s\n",
      "tReacDesvPad= 0.030 s\n"
     ]
    }
   ],
   "source": [
    "distQueda=np.array([0.19, 0.16, 0.13, 0.19, 0.145, 0.12 , 0.13, 0.08, 0.14, 0.075, 0.15, 0.12, 0.16, \n",
    "                    0.06, 0.03])\n",
    "distQuedaMed=np.average(distQueda)\n",
    "distQuedaDesvPad=np.std(distQueda, ddof=1)\n",
    "#\n",
    "g=9.80\n",
    "tReac=np.sqrt(2*distQuedaMed / g) \n",
    "tReacDesvPad = tReac/2/distQuedaMed * distQuedaDesvPad\n",
    "print(\"distQuedaMed= %.3f m\" %distQuedaMed)\n",
    "print(\"tReacMedio= %.3f s\" %tReac)\n",
    "print(\"tReacDesvPad= %.3f s\" %tReacDesvPad)"
   ]
  },
  {
   "cell_type": "markdown",
   "metadata": {},
   "source": [
    "$$T_0 = \\frac{2 \\pi}{\\omega_0} = 2\\pi\\; \\sqrt{\\frac{l}{g}} \\quad  \\text{, para }\t\\theta_0 \\ll 1 \\, \\mathrm{rad}.\n",
    "$$\n",
    "\n",
    "$$ L = g T_0^2 / 4\\pi^2 $$\n"
   ]
  },
  {
   "cell_type": "markdown",
   "metadata": {},
   "source": [
    "## Medidas Experimentais com Cronometro"
   ]
  },
  {
   "cell_type": "code",
   "execution_count": 29,
   "metadata": {
    "collapsed": true
   },
   "outputs": [],
   "source": [
    "L=np.array([1.15, 1.304, 1.63, 1.884])\n",
    "Periodo =np.array([2.072, 2.325, 2.541, 2.704])"
   ]
  },
  {
   "cell_type": "code",
   "execution_count": 30,
   "metadata": {},
   "outputs": [
    {
     "name": "stdout",
     "output_type": "stream",
     "text": [
      "slope:9.80449\n",
      "intercept:0.0349819 V\n",
      "r-squared: 0.972454556205\n",
      "p_value: 0.0138688950221\n",
      "slope std_err:1.16681\n"
     ]
    }
   ],
   "source": [
    "slope, intercept, r_value, p_value, std_err = stats.linregress(Periodo**2/4/np.pi**2, L)\n",
    "print(\"slope:%g\" %slope)\n",
    "print(\"intercept:%g V\" %intercept)\n",
    "#print 'Vel= %g' %Var\n",
    "#print(\"slope:\", slope)\n",
    "print(\"r-squared:\", r_value**2)\n",
    "print(\"p_value:\", p_value)\n",
    "print(\"slope std_err:%g\" %std_err)"
   ]
  },
  {
   "cell_type": "code",
   "execution_count": 33,
   "metadata": {},
   "outputs": [
    {
     "data": {
      "image/png": "[encoded data removed]",
      "text/plain": [
       "<matplotlib.figure.Figure at 0x1a1e90ba20>"
      ]
     },
     "metadata": {},
     "output_type": "display_data"
    }
   ],
   "source": [
    "plt.errorbar(Periodo**2/4/np.pi**2, L,  yerr=0.03, fmt='o', label='original data')\n",
    "\n",
    "plt.plot(Periodo**2/4/np.pi**2, intercept + slope*Periodo**2/4/np.pi**2, 'r', label='fitted line')\n",
    "plt.legend()\n",
    "plt.xlabel('$T^2 / 4 \\pi^2$')\n",
    "plt.ylabel('L / m')\n",
    "plt.show()"
   ]
  },
  {
   "cell_type": "code",
   "execution_count": 24,
   "metadata": {},
   "outputs": [
    {
     "data": {
      "text/plain": [
       "array([ 10.57494397,   9.52338658,   9.96639306,  10.17248974])"
      ]
     },
     "execution_count": 24,
     "metadata": {},
     "output_type": "execute_result"
    }
   ],
   "source": [
    "g  = L / Periodo**2 * np.pi**2 * 4\n",
    "g"
   ]
  },
  {
   "cell_type": "markdown",
   "metadata": {},
   "source": [
    "## Medidas Experimentais com Barreira Digital"
   ]
  },
  {
   "cell_type": "code",
   "execution_count": 62,
   "metadata": {
    "collapsed": true
   },
   "outputs": [],
   "source": [
    "arr=np.genfromtxt('Files/pendulo.txt')"
   ]
  },
  {
   "cell_type": "code",
   "execution_count": 63,
   "metadata": {
    "collapsed": true
   },
   "outputs": [],
   "source": [
    "time=arr[:,1]*1e-3\n",
    "period=arr[:,3]*1e-6\n",
    "vel=0.02/(arr[:,5]*1e-6)\n",
    "energia=vel**2"
   ]
  },
  {
   "cell_type": "code",
   "execution_count": 64,
   "metadata": {},
   "outputs": [
    {
     "data": {
      "image/png": "[encoded data removed]",
      "text/plain": [
       "<matplotlib.figure.Figure at 0x10975beb8>"
      ]
     },
     "metadata": {},
     "output_type": "display_data"
    }
   ],
   "source": [
    "%matplotlib inline\n",
    "fig = plt.figure()\n",
    "ax1 = fig.add_subplot(211, autoscale_on=False, xlim=(0, 1500), ylim=(2.62, 2.64))\n",
    "ax2 = fig.add_subplot(212, sharex=ax1) #, autoscale_on=False, xlim=(-1, 1), ylim=(-1, 1))\n",
    "\n",
    "#ax1.plot(theta, y,label='Emitido-CH1')\n",
    "ax1.plot(time,period, 'b', label='T(t)')\n",
    "ax1.grid()\n",
    "ax1.legend(loc='upper right')\n",
    "ax2.plot(time,vel**2, 'k', label='Vel(t)')\n",
    "# make these tick labels invisible\n",
    "plt.setp(ax1.get_xticklabels(), visible=False)\n",
    "ax2.legend(loc='best')\n",
    "ax2.set_xlabel('Tempo/s')\n",
    "ax2.grid()\n",
    "plt.show()\n",
    "#arr"
   ]
  },
  {
   "cell_type": "markdown",
   "metadata": {},
   "source": [
    "$T=2 \\pi \\sqrt{\\frac{l}{g}}$  \n",
    "$g_{exp}=\\frac{ 4 \\pi^2 l}{T^2} $"
   ]
  },
  {
   "cell_type": "code",
   "execution_count": 65,
   "metadata": {
    "collapsed": true
   },
   "outputs": [],
   "source": [
    "period_med=period.mean()\n",
    "period_std=period.std( ddof=1)\n",
    "gexp= np.pi**2 * 4 * L / period_med**2  "
   ]
  },
  {
   "cell_type": "markdown",
   "metadata": {},
   "source": [
    "## Incerteza Experimental"
   ]
  },
  {
   "cell_type": "markdown",
   "metadata": {},
   "source": [
    "$\\delta  g_{exp} = \\frac{ 4 \\pi^2 }{T^2} \\cdot \\delta  l + \\frac{ 8 \\pi^2 l}{T^3}   \\cdot \\delta  T  $"
   ]
  },
  {
   "cell_type": "code",
   "execution_count": 66,
   "metadata": {},
   "outputs": [
    {
     "name": "stdout",
     "output_type": "stream",
     "text": [
      "gexp:9.874 +- 0.0620152 \n"
     ]
    }
   ],
   "source": [
    "dL=0.01\n",
    "dgexp= np.pi**2 * 4  / period_med**2 * dL + 8* np.pi**2 * L / period_med**3 *period_std\n",
    "print(\"gexp:%g +- %g \" % (gexp, dgexp))"
   ]
  },
  {
   "cell_type": "markdown",
   "metadata": {},
   "source": [
    "Ajuste à Energia  $\\Large{f(x) = a e^{-bx} + c}$"
   ]
  },
  {
   "cell_type": "code",
   "execution_count": 67,
   "metadata": {
    "collapsed": true
   },
   "outputs": [],
   "source": [
    "def f(x, a, b, c):\n",
    "    return a*np.exp(-b*x)+c"
   ]
  },
  {
   "cell_type": "code",
   "execution_count": 68,
   "metadata": {},
   "outputs": [
    {
     "name": "stdout",
     "output_type": "stream",
     "text": [
      "popt: a=0.0951714, b=0.00424509, c=0.00117423\n",
      "perr: [  5.03337866e-05   5.05848924e-06   2.42364481e-05]\n",
      "pcov: [[  2.53349007e-09   1.20143503e-10   4.63323455e-11]\n",
      " [  1.20143503e-10   2.55883134e-11   9.99112632e-11]\n",
      " [  4.63323455e-11   9.99112632e-11   5.87405415e-10]]\n",
      "Time constant: 235.566 s\n"
     ]
    }
   ],
   "source": [
    "guess = [0.03, 1.0e-3, 0.1]\n",
    "popt, pcov = curve_fit(f, time, energia, p0=guess)\n",
    "#The optimised parameters of the fit\n",
    "print(\"popt: a=%g, b=%g, c=%g\" %(popt[0], popt[1], popt[2]))\n",
    "#One standard deviation errors on the parameters.\n",
    "perr = np.sqrt(np.diag(pcov))\n",
    "print(\"perr:\", perr)\n",
    "#The covariance matrix of the parameters\n",
    "print(\"pcov:\", pcov)\n",
    "print(\"Time constant: %g s\" %(1.0/popt[1]))\n",
    "# Time \"constant\" 1.0/popt[1]"
   ]
  },
  {
   "cell_type": "code",
   "execution_count": 69,
   "metadata": {},
   "outputs": [
    {
     "data": {
      "image/png": "[encoded data removed]",
      "text/plain": [
       "<matplotlib.figure.Figure at 0x1093ffba8>"
      ]
     },
     "metadata": {},
     "output_type": "display_data"
    }
   ],
   "source": [
    "plt.scatter(time, energia)\n",
    "#strlabel = r'$R^2 = %0.3f$' % Rsq\n",
    "plt.plot(time, f(time, *popt), color='red', label='Energy fit')\n",
    "plt.xlabel('Energia / u.a.')\n",
    "plt.legend()\n",
    "plt.xlabel('Tempo/s')\n",
    "plt.show()"
   ]
  },
  {
   "cell_type": "markdown",
   "metadata": {},
   "source": [
    "## Histograma das medidas do periodo"
   ]
  },
  {
   "cell_type": "code",
   "execution_count": 58,
   "metadata": {},
   "outputs": [
    {
     "data": {
      "image/png": "[encoded data removed]",
      "text/plain": [
       "<matplotlib.figure.Figure at 0x109ade080>"
      ]
     },
     "metadata": {},
     "output_type": "display_data"
    }
   ],
   "source": [
    "# the histogram of the data\n",
    "n, bins, patches = plt.hist(period, bins=50, normed='True', facecolor='green', alpha=0.75)\n",
    "plt.grid(True)\n",
    "plt.xlim([2.626, 2.634])\n",
    "plt.xlabel('Period /s')\n",
    "#plt.ylabel('Probability')\n",
    "plt.show()"
   ]
  },
  {
   "cell_type": "code",
   "execution_count": null,
   "metadata": {
    "collapsed": true
   },
   "outputs": [],
   "source": []
  }
 ],
 "metadata": {
  "kernelspec": {
   "display_name": "Python 2",
   "language": "python",
   "name": "python2"
  },
  "language_info": {
   "codemirror_mode": {
    "name": "ipython",
    "version": 2
   },
   "file_extension": ".py",
   "mimetype": "text/x-python",
   "name": "python",
   "nbconvert_exporter": "python",
   "pygments_lexer": "ipython2",
   "version": "2.7.14"
  }
 },
 "nbformat": 4,
 "nbformat_minor": 2
}
